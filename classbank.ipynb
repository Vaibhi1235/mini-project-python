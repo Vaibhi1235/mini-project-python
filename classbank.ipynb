{
 "cells": [
  {
   "cell_type": "code",
   "execution_count": 4,
   "metadata": {},
   "outputs": [],
   "source": [
    "class custumer_deposit:\n",
    "    def __init__(self,name,account_no,balance,deposit):\n",
    "        self.name_customer=name\n",
    "        self.account=account_no\n",
    "        self.balance=balance\n",
    "        self.deposit=deposit\n",
    "    def deposit_cash(self):\n",
    "        deposit=self.balance+self.deposit\n",
    "        return deposit"
   ]
  },
  {
   "cell_type": "code",
   "execution_count": 6,
   "metadata": {},
   "outputs": [],
   "source": [
    "class custumer_withdraw:\n",
    "    def __init__(self,name,account_no,balance,withdraw):\n",
    "        self.name_customer=name\n",
    "        self.account=account_no\n",
    "        self.balance=balance\n",
    "        self.withdraw=withdraw\n",
    "    def withdraw_cash(self):\n",
    "        if self.balance>self.withdraw:\n",
    "            custumers=self.balance-self.withdraw\n",
    "        elif self.balance<self.withdraw:\n",
    "            custumers=self.withdraw-self.balance\n",
    "        else:\n",
    "            pass\n",
    "        return custumers\n",
    "        "
   ]
  },
  {
   "cell_type": "code",
   "execution_count": 11,
   "metadata": {},
   "outputs": [],
   "source": [
    "def custumer_balance(name,account_no,balance,deposit,withdraw):\n",
    "    '''negative amount will reflect \n",
    "    the insufficent money in account of custumer'''\n",
    "    deposit_cust=custumer_deposit(name,account_no,balance,deposit)\n",
    "    withdraw_cust=custumer_withdraw(name,account_no,balance,withdraw)\n",
    "\n",
    "    total_deposit=deposit_cust.deposit_cash()\n",
    "    total_withdraw=withdraw_cust.withdraw_cash()\n",
    "\n",
    "    final_amount1=total_deposit-total_withdraw\n",
    "    final_amount2=balance+final_amount1\n",
    "    return final_amount2"
   ]
  },
  {
   "cell_type": "code",
   "execution_count": 10,
   "metadata": {},
   "outputs": [
    {
     "data": {
      "text/plain": [
       "-86355"
      ]
     },
     "execution_count": 10,
     "metadata": {},
     "output_type": "execute_result"
    }
   ],
   "source": [
    "custumer_balance(name='vaibhav',account_no=12346,balance=11000,deposit=1200,withdraw=120555)"
   ]
  }
 ],
 "metadata": {
  "kernelspec": {
   "display_name": "base",
   "language": "python",
   "name": "python3"
  },
  "language_info": {
   "codemirror_mode": {
    "name": "ipython",
    "version": 3
   },
   "file_extension": ".py",
   "mimetype": "text/x-python",
   "name": "python",
   "nbconvert_exporter": "python",
   "pygments_lexer": "ipython3",
   "version": "3.11.7"
  }
 },
 "nbformat": 4,
 "nbformat_minor": 2
}
