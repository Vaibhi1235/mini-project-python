{
 "cells": [
  {
   "cell_type": "code",
   "execution_count": 1,
   "metadata": {},
   "outputs": [],
   "source": [
    "import numpy as np\n",
    "import pandas as pd"
   ]
  },
  {
   "cell_type": "code",
   "execution_count": 5,
   "metadata": {},
   "outputs": [],
   "source": [
    "def airlines(name_of_filght,location):\n",
    "    if name_of_filght=='indigo' and location=='pune':\n",
    "        destination='delhi'\n",
    "        return (f'filght will fly from {name_of_filght} and destination will be {destination}')\n",
    "    elif name_of_filght=='indigo' and location=='mumbai':\n",
    "        destination='pune'\n",
    "        return (f'filght will fly from {name_of_filght} and destination will be {destination}')\n",
    "    elif name_of_filght=='indigo' and location=='bangloare':\n",
    "        destination='kolkata'\n",
    "        return (f'filght will fly from {name_of_filght} and destination will be {destination}')\n",
    "    elif name_of_filght=='indigo' and location=='kolkata':\n",
    "        destination='bangloare'\n",
    "        return (f'filght will fly from {name_of_filght} and destination will be {destination}')\n",
    "    elif name_of_filght=='indigo' and location=='delhi':\n",
    "        destination='mumbai'\n",
    "        return (f'filght will fly from {name_of_filght} and destination will be {destination}')\n",
    "    else:\n",
    "        return (f' there will be no flight for {destination}')"
   ]
  },
  {
   "cell_type": "code",
   "execution_count": 4,
   "metadata": {},
   "outputs": [
    {
     "data": {
      "text/plain": [
       "'filght will fly from indigo and destination will be delhi'"
      ]
     },
     "execution_count": 4,
     "metadata": {},
     "output_type": "execute_result"
    }
   ],
   "source": [
    "airlines(name_of_filght='indigo',location='pune')"
   ]
  },
  {
   "cell_type": "code",
   "execution_count": 12,
   "metadata": {},
   "outputs": [],
   "source": [
    "def custumer (name_of_flight,class_of_flight,location):\n",
    "    if name_of_flight=='indigo' and class_of_flight=='business' and location=='pune':\n",
    "        charges=10000\n",
    "        return (f'for the flight{name_of_flight} charges for class of {class_of_flight} will be {charges}')\n",
    "    elif name_of_flight=='indigo' and class_of_flight=='business' and location=='mumbai':\n",
    "        charges=10000\n",
    "        return (f'for the flight{name_of_flight} charges for class of {class_of_flight} will be {charges}')\n",
    "    elif name_of_flight=='indigo' and class_of_flight=='econmony' and location=='pune':\n",
    "        charges=5000\n",
    "        return (f'for the flight{name_of_flight} charges for class of {class_of_flight} will be {charges}')\n",
    "    elif name_of_flight=='indigo' and class_of_flight=='economy' and location=='mumbai':\n",
    "        charges=5000\n",
    "        return (f'for the flight{name_of_flight} charges for class of {class_of_flight} will be {charges}')\n",
    "    elif name_of_flight=='indigo' and class_of_flight=='business' and location=='bangloare':\n",
    "        charges=12000\n",
    "        return (f'for the flight{name_of_flight} charges for class of {class_of_flight} will be {charges}')\n",
    "    elif name_of_flight=='indigo' and class_of_flight=='economy' and location=='bangloare':\n",
    "        charges=10000\n",
    "        return (f'for the flight{name_of_flight} charges for class of {class_of_flight} will be {charges}')\n",
    "    elif name_of_flight=='indigo' and class_of_flight=='economy' and location=='kolkata':\n",
    "        charges=9000\n",
    "        return (f'for the flight{name_of_flight} charges for class of {class_of_flight} will be {charges}')\n",
    "    elif name_of_flight=='indigo' and class_of_flight=='business' and location=='delhi':\n",
    "        charges=15000\n",
    "        return (f'for the flight{name_of_flight} charges for class of {class_of_flight} will be {charges}')\n",
    "    elif name_of_flight=='indigo' and class_of_flight=='economy' and location=='pune':\n",
    "        charges=10000\n",
    "        return (f'for the flight{name_of_flight} charges for class of {class_of_flight} will be {charges}')\n",
    "    else:\n",
    "        return (f' there will be no flight for')\n"
   ]
  },
  {
   "cell_type": "code",
   "execution_count": 13,
   "metadata": {},
   "outputs": [
    {
     "data": {
      "text/plain": [
       "'for the flightindigo charges for class of business will be 15000'"
      ]
     },
     "execution_count": 13,
     "metadata": {},
     "output_type": "execute_result"
    }
   ],
   "source": [
    "custumer(name_of_flight='indigo',class_of_flight='business',location='delhi')"
   ]
  },
  {
   "cell_type": "code",
   "execution_count": 14,
   "metadata": {},
   "outputs": [],
   "source": [
    "def booking_of_flight (name_of_filght,location,class_of_flight):\n",
    "    airline=airlines(name_of_filght,location)\n",
    "    custumers=custumer(name_of_filght,class_of_flight,location)\n",
    "\n",
    "    final_booking=airline+custumers\n",
    "    return(final_booking)"
   ]
  },
  {
   "cell_type": "code",
   "execution_count": 16,
   "metadata": {},
   "outputs": [
    {
     "data": {
      "text/plain": [
       "'filght will fly from indigo and destination will be delhifor the flightindigo charges for class of business will be 10000'"
      ]
     },
     "execution_count": 16,
     "metadata": {},
     "output_type": "execute_result"
    }
   ],
   "source": [
    "booking_of_flight(name_of_filght='indigo',location='pune',class_of_flight='business')"
   ]
  }
 ],
 "metadata": {
  "kernelspec": {
   "display_name": "base",
   "language": "python",
   "name": "python3"
  },
  "language_info": {
   "codemirror_mode": {
    "name": "ipython",
    "version": 3
   },
   "file_extension": ".py",
   "mimetype": "text/x-python",
   "name": "python",
   "nbconvert_exporter": "python",
   "pygments_lexer": "ipython3",
   "version": "3.11.7"
  }
 },
 "nbformat": 4,
 "nbformat_minor": 2
}
