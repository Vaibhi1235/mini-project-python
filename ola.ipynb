{
 "cells": [
  {
   "cell_type": "code",
   "execution_count": 8,
   "metadata": {},
   "outputs": [],
   "source": [
    "import geopy.distance"
   ]
  },
  {
   "cell_type": "code",
   "execution_count": 10,
   "metadata": {},
   "outputs": [],
   "source": [
    "def distance_user(location1,location2):\n",
    "    '''user will give input of \n",
    "    pickup point and destination point'''\n",
    "    distance=geopy.distance.distance(location1,location2).km\n",
    "    return distance"
   ]
  },
  {
   "cell_type": "code",
   "execution_count": 3,
   "metadata": {},
   "outputs": [],
   "source": [
    "def charges_perkm (hour):\n",
    "    '''user will give at \n",
    "    hour he is booking cab'''\n",
    "    if (hour>8) and (hour <10):\n",
    "        price=18\n",
    "    elif (hour>=10) and (hour<12):\n",
    "        price=24\n",
    "    elif (hour>=12) and (hour<5):\n",
    "        price=20\n",
    "    elif (hour>5) and (hour<9):\n",
    "        price=28\n",
    "    elif (hour>9) and (hour<11):\n",
    "        price=25\n",
    "    elif (hour>11) and (hour<6):\n",
    "        price=35\n",
    "    else:\n",
    "        price=23\n",
    "    return price\n",
    "\n",
    "\n"
   ]
  },
  {
   "cell_type": "code",
   "execution_count": 11,
   "metadata": {},
   "outputs": [],
   "source": [
    "def total_price(pickup_location,drop_location,hour):\n",
    "    total_distance=distance_user(pickup_location,drop_location)\n",
    "    total_hour=charges_perkm(hour)\n",
    "    final_price=total_distance*total_hour\n",
    "    return final_price"
   ]
  },
  {
   "cell_type": "code",
   "execution_count": 15,
   "metadata": {},
   "outputs": [
    {
     "data": {
      "text/plain": [
       "19248.225936376533"
      ]
     },
     "execution_count": 15,
     "metadata": {},
     "output_type": "execute_result"
    }
   ],
   "source": [
    "pickup_location=(12,23)\n",
    "drop_location=(14,29)\n",
    "hour=8\n",
    "total_price(pickup_location,drop_location,hour)"
   ]
  }
 ],
 "metadata": {
  "kernelspec": {
   "display_name": "base",
   "language": "python",
   "name": "python3"
  },
  "language_info": {
   "codemirror_mode": {
    "name": "ipython",
    "version": 3
   },
   "file_extension": ".py",
   "mimetype": "text/x-python",
   "name": "python",
   "nbconvert_exporter": "python",
   "pygments_lexer": "ipython3",
   "version": "3.11.7"
  }
 },
 "nbformat": 4,
 "nbformat_minor": 2
}
