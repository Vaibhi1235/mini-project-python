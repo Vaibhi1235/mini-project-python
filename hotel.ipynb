{
 "cells": [
  {
   "cell_type": "code",
   "execution_count": 16,
   "metadata": {},
   "outputs": [],
   "source": [
    "def hotel_menu (menu_name,menu_size):\n",
    "    '''user will give input for menu name \n",
    "    and full size of half size and no of qunatity'''\n",
    "    menu=menu_name,menu_size\n",
    "    \n",
    "    return menu\n"
   ]
  },
  {
   "cell_type": "code",
   "execution_count": null,
   "metadata": {},
   "outputs": [],
   "source": []
  },
  {
   "cell_type": "code",
   "execution_count": 54,
   "metadata": {},
   "outputs": [],
   "source": [
    "def hotel_rate (menu_name):\n",
    "    '''user will give input of manu name \n",
    "    and menurate for particulare menu'''\n",
    "    if menu_name==('misal') and menu_size==('full'):\n",
    "        price=120\n",
    "    elif menu_name==('misal') and menu_size==('half'):\n",
    "        price=20\n",
    "    elif menu_name==('vadapav'):\n",
    "        price=15\n",
    "    elif menu_name==('pav bhaji') and menu_size==('full'):\n",
    "        price=120\n",
    "    elif menu_name==('pav bhaji') and menu_size==('half'):\n",
    "        price=100\n",
    "    elif menu_name==('tak') and menu_size==('full'):\n",
    "        price=40\n",
    "    elif menu_name==('tak') and menu_size==('half'):\n",
    "        price=20\n",
    "    else:\n",
    "        price=0\n",
    "    return price\n",
    "\n"
   ]
  },
  {
   "cell_type": "code",
   "execution_count": 55,
   "metadata": {},
   "outputs": [],
   "source": [
    "def order_quantity(food_quantity):\n",
    "    '''user will give quantity in no'''\n",
    "    order=food_quantity\n",
    "    return order\n"
   ]
  },
  {
   "cell_type": "code",
   "execution_count": 58,
   "metadata": {},
   "outputs": [],
   "source": [
    "menu_name='misal'\n",
    "menu_size='half'\n",
    "food_quantity=3\n",
    "\n",
    "\n"
   ]
  },
  {
   "cell_type": "code",
   "execution_count": 50,
   "metadata": {},
   "outputs": [],
   "source": [
    "def final_rate(menu_name,menu_size,food_quantity):\n",
    "    total_order=hotel_menu(menu_name,menu_size)\n",
    "    \n",
    "    total_rate=hotel_rate(menu_name)\n",
    "    total_orders=order_quantity(food_quantity)\n",
    "\n",
    "\n",
    "    total_cost=total_rate*total_orders\n",
    "    return total_cost"
   ]
  },
  {
   "cell_type": "code",
   "execution_count": 59,
   "metadata": {},
   "outputs": [
    {
     "data": {
      "text/plain": [
       "60"
      ]
     },
     "execution_count": 59,
     "metadata": {},
     "output_type": "execute_result"
    }
   ],
   "source": [
    "final_rate(menu_name,menu_size,food_quantity)"
   ]
  }
 ],
 "metadata": {
  "kernelspec": {
   "display_name": "base",
   "language": "python",
   "name": "python3"
  },
  "language_info": {
   "codemirror_mode": {
    "name": "ipython",
    "version": 3
   },
   "file_extension": ".py",
   "mimetype": "text/x-python",
   "name": "python",
   "nbconvert_exporter": "python",
   "pygments_lexer": "ipython3",
   "version": "3.11.7"
  }
 },
 "nbformat": 4,
 "nbformat_minor": 2
}
