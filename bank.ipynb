{
 "cells": [
  {
   "cell_type": "code",
   "execution_count": 1,
   "metadata": {},
   "outputs": [],
   "source": [
    "def custumer_deposit(name,account_no,balance,deposit):\n",
    "    '''user will give input of name account \n",
    "    number balance deposit amount'''\n",
    "    custumer=balance+deposit\n",
    "    return custumer"
   ]
  },
  {
   "cell_type": "code",
   "execution_count": 2,
   "metadata": {},
   "outputs": [],
   "source": [
    "def custumer_withdraw (name,account_no,balance,withdraw):\n",
    "    ''' user will give input name \n",
    "    balance and with draw amount '''\n",
    "    if balance>=withdraw :\n",
    "        custmers=balance-withdraw\n",
    "    elif balance<withdraw:\n",
    "        custmers=withdraw-balance\n",
    "    else:\n",
    "        pass\n",
    "    return custmers"
   ]
  },
  {
   "cell_type": "code",
   "execution_count": 22,
   "metadata": {},
   "outputs": [],
   "source": [
    "def returns (name,account_no,balance,deposit,withdraw):\n",
    "    '''user will give input of custumer name his account no its balance,deposit ,withdarw amount'''\n",
    "    total_deposit=custumer_deposit(name,account_no,balance,deposit)\n",
    "    total_withdraw=custumer_withdraw(name,account_no,balance,withdraw)\n",
    "    total_amount=total_deposit-total_withdraw\n",
    "    return total_amount"
   ]
  },
  {
   "cell_type": "code",
   "execution_count": 21,
   "metadata": {},
   "outputs": [
    {
     "data": {
      "text/plain": [
       "1320"
      ]
     },
     "execution_count": 21,
     "metadata": {},
     "output_type": "execute_result"
    }
   ],
   "source": [
    "returns(name='vaibhav',account_no=123456,balance=12000,deposit=1200,withdraw=120)"
   ]
  }
 ],
 "metadata": {
  "kernelspec": {
   "display_name": "base",
   "language": "python",
   "name": "python3"
  },
  "language_info": {
   "codemirror_mode": {
    "name": "ipython",
    "version": 3
   },
   "file_extension": ".py",
   "mimetype": "text/x-python",
   "name": "python",
   "nbconvert_exporter": "python",
   "pygments_lexer": "ipython3",
   "version": "3.11.7"
  }
 },
 "nbformat": 4,
 "nbformat_minor": 2
}
